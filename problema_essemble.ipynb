{
  "nbformat": 4,
  "nbformat_minor": 0,
  "metadata": {
    "colab": {
      "provenance": [],
      "authorship_tag": "ABX9TyP1nJYbkm4Ra7WazsP0JBT7",
      "include_colab_link": true
    },
    "kernelspec": {
      "name": "python3",
      "display_name": "Python 3"
    },
    "language_info": {
      "name": "python"
    }
  },
  "cells": [
    {
      "cell_type": "markdown",
      "metadata": {
        "id": "view-in-github",
        "colab_type": "text"
      },
      "source": [
        "<a href=\"https://colab.research.google.com/github/badaroz/reconhecimento-padroes/blob/main/problema_essemble.ipynb\" target=\"_parent\"><img src=\"https://colab.research.google.com/assets/colab-badge.svg\" alt=\"Open In Colab\"/></a>"
      ]
    },
    {
      "cell_type": "code",
      "execution_count": 136,
      "metadata": {
        "id": "IbekclqkFBmC"
      },
      "outputs": [],
      "source": [
        "from sklearn.linear_model import LogisticRegression,Perceptron\n",
        "from sklearn.neighbors import KNeighborsClassifier\n",
        "from sklearn.datasets import fetch_openml\n",
        "from sklearn.ensemble import VotingClassifier,StackingClassifier,RandomForestClassifier,ExtraTreesClassifier\n",
        "from sklearn.tree import DecisionTreeClassifier\n",
        "from sklearn.model_selection import train_test_split,cross_validate,GridSearchCV\n",
        "\n",
        "import pandas as pd\n",
        "import numpy as np\n",
        "import matplotlib.pylab as plt"
      ]
    },
    {
      "cell_type": "code",
      "source": [
        "request = fetch_openml(data_id=1489,as_frame=True)\n",
        "X = request.data\n",
        "y = request.target"
      ],
      "metadata": {
        "id": "UYl6zAF-rQOj"
      },
      "execution_count": 163,
      "outputs": []
    },
    {
      "cell_type": "code",
      "source": [
        "X.shape,y.shape"
      ],
      "metadata": {
        "colab": {
          "base_uri": "https://localhost:8080/"
        },
        "id": "wQs80FI01VfV",
        "outputId": "fa5ecba5-06bc-4cff-bb8a-c58e61be09dd"
      },
      "execution_count": 164,
      "outputs": [
        {
          "output_type": "execute_result",
          "data": {
            "text/plain": [
              "((5404, 5), (5404,))"
            ]
          },
          "metadata": {},
          "execution_count": 164
        }
      ]
    },
    {
      "cell_type": "code",
      "source": [
        "X"
      ],
      "metadata": {
        "colab": {
          "base_uri": "https://localhost:8080/",
          "height": 424
        },
        "id": "hlmn9sXoIyGG",
        "outputId": "40518d82-f005-4c98-fa23-49b4abf6e78b"
      },
      "execution_count": 165,
      "outputs": [
        {
          "output_type": "execute_result",
          "data": {
            "text/plain": [
              "            V1        V2        V3        V4        V5\n",
              "0     0.489927 -0.451528 -1.047990 -0.598693 -0.020418\n",
              "1    -0.641265  0.109245  0.292130 -0.916804  0.240223\n",
              "2     0.870593 -0.459862  0.578159  0.806634  0.835248\n",
              "3    -0.628439 -0.316284  1.934295 -1.427099 -0.136583\n",
              "4    -0.596399  0.015938  2.043206 -1.688448 -0.948127\n",
              "...        ...       ...       ...       ...       ...\n",
              "5399 -0.658318  1.331760 -0.081621  1.794253 -1.082181\n",
              "5400 -0.044375 -0.010512  0.030989 -0.019379  1.281061\n",
              "5401  0.246882 -0.793228  1.190101  1.423194 -1.303036\n",
              "5402 -0.778907 -0.383111  1.727029 -1.432389 -1.208085\n",
              "5403 -0.794604 -0.640053  0.632221  0.720280 -1.231182\n",
              "\n",
              "[5404 rows x 5 columns]"
            ],
            "text/html": [
              "\n",
              "  <div id=\"df-4bfdd39e-b51a-487d-ba8b-15ff5fabc759\">\n",
              "    <div class=\"colab-df-container\">\n",
              "      <div>\n",
              "<style scoped>\n",
              "    .dataframe tbody tr th:only-of-type {\n",
              "        vertical-align: middle;\n",
              "    }\n",
              "\n",
              "    .dataframe tbody tr th {\n",
              "        vertical-align: top;\n",
              "    }\n",
              "\n",
              "    .dataframe thead th {\n",
              "        text-align: right;\n",
              "    }\n",
              "</style>\n",
              "<table border=\"1\" class=\"dataframe\">\n",
              "  <thead>\n",
              "    <tr style=\"text-align: right;\">\n",
              "      <th></th>\n",
              "      <th>V1</th>\n",
              "      <th>V2</th>\n",
              "      <th>V3</th>\n",
              "      <th>V4</th>\n",
              "      <th>V5</th>\n",
              "    </tr>\n",
              "  </thead>\n",
              "  <tbody>\n",
              "    <tr>\n",
              "      <th>0</th>\n",
              "      <td>0.489927</td>\n",
              "      <td>-0.451528</td>\n",
              "      <td>-1.047990</td>\n",
              "      <td>-0.598693</td>\n",
              "      <td>-0.020418</td>\n",
              "    </tr>\n",
              "    <tr>\n",
              "      <th>1</th>\n",
              "      <td>-0.641265</td>\n",
              "      <td>0.109245</td>\n",
              "      <td>0.292130</td>\n",
              "      <td>-0.916804</td>\n",
              "      <td>0.240223</td>\n",
              "    </tr>\n",
              "    <tr>\n",
              "      <th>2</th>\n",
              "      <td>0.870593</td>\n",
              "      <td>-0.459862</td>\n",
              "      <td>0.578159</td>\n",
              "      <td>0.806634</td>\n",
              "      <td>0.835248</td>\n",
              "    </tr>\n",
              "    <tr>\n",
              "      <th>3</th>\n",
              "      <td>-0.628439</td>\n",
              "      <td>-0.316284</td>\n",
              "      <td>1.934295</td>\n",
              "      <td>-1.427099</td>\n",
              "      <td>-0.136583</td>\n",
              "    </tr>\n",
              "    <tr>\n",
              "      <th>4</th>\n",
              "      <td>-0.596399</td>\n",
              "      <td>0.015938</td>\n",
              "      <td>2.043206</td>\n",
              "      <td>-1.688448</td>\n",
              "      <td>-0.948127</td>\n",
              "    </tr>\n",
              "    <tr>\n",
              "      <th>...</th>\n",
              "      <td>...</td>\n",
              "      <td>...</td>\n",
              "      <td>...</td>\n",
              "      <td>...</td>\n",
              "      <td>...</td>\n",
              "    </tr>\n",
              "    <tr>\n",
              "      <th>5399</th>\n",
              "      <td>-0.658318</td>\n",
              "      <td>1.331760</td>\n",
              "      <td>-0.081621</td>\n",
              "      <td>1.794253</td>\n",
              "      <td>-1.082181</td>\n",
              "    </tr>\n",
              "    <tr>\n",
              "      <th>5400</th>\n",
              "      <td>-0.044375</td>\n",
              "      <td>-0.010512</td>\n",
              "      <td>0.030989</td>\n",
              "      <td>-0.019379</td>\n",
              "      <td>1.281061</td>\n",
              "    </tr>\n",
              "    <tr>\n",
              "      <th>5401</th>\n",
              "      <td>0.246882</td>\n",
              "      <td>-0.793228</td>\n",
              "      <td>1.190101</td>\n",
              "      <td>1.423194</td>\n",
              "      <td>-1.303036</td>\n",
              "    </tr>\n",
              "    <tr>\n",
              "      <th>5402</th>\n",
              "      <td>-0.778907</td>\n",
              "      <td>-0.383111</td>\n",
              "      <td>1.727029</td>\n",
              "      <td>-1.432389</td>\n",
              "      <td>-1.208085</td>\n",
              "    </tr>\n",
              "    <tr>\n",
              "      <th>5403</th>\n",
              "      <td>-0.794604</td>\n",
              "      <td>-0.640053</td>\n",
              "      <td>0.632221</td>\n",
              "      <td>0.720280</td>\n",
              "      <td>-1.231182</td>\n",
              "    </tr>\n",
              "  </tbody>\n",
              "</table>\n",
              "<p>5404 rows × 5 columns</p>\n",
              "</div>\n",
              "      <button class=\"colab-df-convert\" onclick=\"convertToInteractive('df-4bfdd39e-b51a-487d-ba8b-15ff5fabc759')\"\n",
              "              title=\"Convert this dataframe to an interactive table.\"\n",
              "              style=\"display:none;\">\n",
              "        \n",
              "  <svg xmlns=\"http://www.w3.org/2000/svg\" height=\"24px\"viewBox=\"0 0 24 24\"\n",
              "       width=\"24px\">\n",
              "    <path d=\"M0 0h24v24H0V0z\" fill=\"none\"/>\n",
              "    <path d=\"M18.56 5.44l.94 2.06.94-2.06 2.06-.94-2.06-.94-.94-2.06-.94 2.06-2.06.94zm-11 1L8.5 8.5l.94-2.06 2.06-.94-2.06-.94L8.5 2.5l-.94 2.06-2.06.94zm10 10l.94 2.06.94-2.06 2.06-.94-2.06-.94-.94-2.06-.94 2.06-2.06.94z\"/><path d=\"M17.41 7.96l-1.37-1.37c-.4-.4-.92-.59-1.43-.59-.52 0-1.04.2-1.43.59L10.3 9.45l-7.72 7.72c-.78.78-.78 2.05 0 2.83L4 21.41c.39.39.9.59 1.41.59.51 0 1.02-.2 1.41-.59l7.78-7.78 2.81-2.81c.8-.78.8-2.07 0-2.86zM5.41 20L4 18.59l7.72-7.72 1.47 1.35L5.41 20z\"/>\n",
              "  </svg>\n",
              "      </button>\n",
              "      \n",
              "  <style>\n",
              "    .colab-df-container {\n",
              "      display:flex;\n",
              "      flex-wrap:wrap;\n",
              "      gap: 12px;\n",
              "    }\n",
              "\n",
              "    .colab-df-convert {\n",
              "      background-color: #E8F0FE;\n",
              "      border: none;\n",
              "      border-radius: 50%;\n",
              "      cursor: pointer;\n",
              "      display: none;\n",
              "      fill: #1967D2;\n",
              "      height: 32px;\n",
              "      padding: 0 0 0 0;\n",
              "      width: 32px;\n",
              "    }\n",
              "\n",
              "    .colab-df-convert:hover {\n",
              "      background-color: #E2EBFA;\n",
              "      box-shadow: 0px 1px 2px rgba(60, 64, 67, 0.3), 0px 1px 3px 1px rgba(60, 64, 67, 0.15);\n",
              "      fill: #174EA6;\n",
              "    }\n",
              "\n",
              "    [theme=dark] .colab-df-convert {\n",
              "      background-color: #3B4455;\n",
              "      fill: #D2E3FC;\n",
              "    }\n",
              "\n",
              "    [theme=dark] .colab-df-convert:hover {\n",
              "      background-color: #434B5C;\n",
              "      box-shadow: 0px 1px 3px 1px rgba(0, 0, 0, 0.15);\n",
              "      filter: drop-shadow(0px 1px 2px rgba(0, 0, 0, 0.3));\n",
              "      fill: #FFFFFF;\n",
              "    }\n",
              "  </style>\n",
              "\n",
              "      <script>\n",
              "        const buttonEl =\n",
              "          document.querySelector('#df-4bfdd39e-b51a-487d-ba8b-15ff5fabc759 button.colab-df-convert');\n",
              "        buttonEl.style.display =\n",
              "          google.colab.kernel.accessAllowed ? 'block' : 'none';\n",
              "\n",
              "        async function convertToInteractive(key) {\n",
              "          const element = document.querySelector('#df-4bfdd39e-b51a-487d-ba8b-15ff5fabc759');\n",
              "          const dataTable =\n",
              "            await google.colab.kernel.invokeFunction('convertToInteractive',\n",
              "                                                     [key], {});\n",
              "          if (!dataTable) return;\n",
              "\n",
              "          const docLinkHtml = 'Like what you see? Visit the ' +\n",
              "            '<a target=\"_blank\" href=https://colab.research.google.com/notebooks/data_table.ipynb>data table notebook</a>'\n",
              "            + ' to learn more about interactive tables.';\n",
              "          element.innerHTML = '';\n",
              "          dataTable['output_type'] = 'display_data';\n",
              "          await google.colab.output.renderOutput(dataTable, element);\n",
              "          const docLink = document.createElement('div');\n",
              "          docLink.innerHTML = docLinkHtml;\n",
              "          element.appendChild(docLink);\n",
              "        }\n",
              "      </script>\n",
              "    </div>\n",
              "  </div>\n",
              "  "
            ]
          },
          "metadata": {},
          "execution_count": 165
        }
      ]
    },
    {
      "cell_type": "code",
      "source": [
        "y"
      ],
      "metadata": {
        "colab": {
          "base_uri": "https://localhost:8080/"
        },
        "id": "CU7GFD9oQjfp",
        "outputId": "3b86c199-a991-49e9-ff63-fda7e2804ebb"
      },
      "execution_count": 166,
      "outputs": [
        {
          "output_type": "execute_result",
          "data": {
            "text/plain": [
              "0       1\n",
              "1       1\n",
              "2       1\n",
              "3       1\n",
              "4       1\n",
              "       ..\n",
              "5399    1\n",
              "5400    2\n",
              "5401    2\n",
              "5402    1\n",
              "5403    2\n",
              "Name: Class, Length: 5404, dtype: category\n",
              "Categories (2, object): ['1', '2']"
            ]
          },
          "metadata": {},
          "execution_count": 166
        }
      ]
    },
    {
      "cell_type": "markdown",
      "source": [
        "Voting"
      ],
      "metadata": {
        "id": "nYpROfrmhCB8"
      }
    },
    {
      "cell_type": "code",
      "source": [
        "Xtr, Xte, ytr, yte = train_test_split(X, y)\n",
        "Xtr.shape, Xte.shape, ytr.shape, yte.shape"
      ],
      "metadata": {
        "colab": {
          "base_uri": "https://localhost:8080/"
        },
        "id": "zFwp1L66i3Ut",
        "outputId": "de94b05f-3574-4c53-c219-223fea124639"
      },
      "execution_count": 167,
      "outputs": [
        {
          "output_type": "execute_result",
          "data": {
            "text/plain": [
              "((4053, 5), (1351, 5), (4053,), (1351,))"
            ]
          },
          "metadata": {},
          "execution_count": 167
        }
      ]
    },
    {
      "cell_type": "code",
      "source": [
        "voting = VotingClassifier([\n",
        "    ('knn', KNeighborsClassifier()),\n",
        "    ('log', LogisticRegression()),\n",
        "    ('tree', DecisionTreeClassifier())\n",
        "])\n",
        "\n",
        "\n",
        "voting.fit(Xtr, ytr)\n",
        "vote_pred = voting.predict(Xte)\n",
        "vote_hits = vote_pred == yte\n",
        "vote_hits, sum(vote_hits)/len(vote_hits)"
      ],
      "metadata": {
        "colab": {
          "base_uri": "https://localhost:8080/"
        },
        "id": "6Kw-cHJy37Mu",
        "outputId": "da9db373-a99c-4b4c-ebe8-bfe5d2b53133"
      },
      "execution_count": 175,
      "outputs": [
        {
          "output_type": "execute_result",
          "data": {
            "text/plain": [
              "(3532     True\n",
              " 593      True\n",
              " 4919     True\n",
              " 1712    False\n",
              " 4920     True\n",
              "         ...  \n",
              " 414      True\n",
              " 2445     True\n",
              " 1175     True\n",
              " 170     False\n",
              " 4301     True\n",
              " Name: Class, Length: 1351, dtype: bool, 0.8652849740932642)"
            ]
          },
          "metadata": {},
          "execution_count": 175
        }
      ]
    },
    {
      "cell_type": "code",
      "source": [
        "parametros = {\n",
        "    'log__solver':['lbfgs', 'liblinear'],\n",
        "    'tree__max_depth': list(range(1,10,2)),\n",
        "    'knn__n_neighbors': list(range(1,10,2))   \n",
        "}\n",
        "\n",
        "modelo_gv = GridSearchCV(voting,param_grid= parametros)"
      ],
      "metadata": {
        "id": "gJtUOqFhoVdp"
      },
      "execution_count": 176,
      "outputs": []
    },
    {
      "cell_type": "code",
      "source": [
        "scores = cross_validate(modelo_gv, X, y)\n",
        "scores, np.mean(scores['test_score'])"
      ],
      "metadata": {
        "colab": {
          "base_uri": "https://localhost:8080/"
        },
        "id": "Jw-JVOwHj3um",
        "outputId": "5ab90e56-6bd4-4c40-9a13-c30ba56e2f16"
      },
      "execution_count": 177,
      "outputs": [
        {
          "output_type": "execute_result",
          "data": {
            "text/plain": [
              "({'fit_time': array([23.81906271, 20.88467431, 22.13368177, 22.93412542, 20.98750806]),\n",
              "  'score_time': array([0.0702858 , 0.04444885, 0.08903885, 0.04260349, 0.07003856]),\n",
              "  'test_score': array([0.86586494, 0.88251619, 0.87881591, 0.88251619, 0.87592593])},\n",
              " 0.8771278308836126)"
            ]
          },
          "metadata": {},
          "execution_count": 177
        }
      ]
    },
    {
      "cell_type": "code",
      "source": [
        "modelo_gv.fit(X, y)\n",
        "modelo_gv.best_estimator_"
      ],
      "metadata": {
        "colab": {
          "base_uri": "https://localhost:8080/"
        },
        "id": "3V7-FKjt5VHe",
        "outputId": "12d6b051-63b7-4175-b06d-b86050de2d43"
      },
      "execution_count": 178,
      "outputs": [
        {
          "output_type": "execute_result",
          "data": {
            "text/plain": [
              "VotingClassifier(estimators=[('knn', KNeighborsClassifier(n_neighbors=1)),\n",
              "                             ('log', LogisticRegression()),\n",
              "                             ('tree', DecisionTreeClassifier(max_depth=9))])"
            ]
          },
          "metadata": {},
          "execution_count": 178
        }
      ]
    },
    {
      "cell_type": "markdown",
      "source": [
        "Stacking"
      ],
      "metadata": {
        "id": "r9bCq9khkk1Y"
      }
    },
    {
      "cell_type": "code",
      "source": [
        "stacking = StackingClassifier([\n",
        "    ('voting', voting),\n",
        "    ('extratrees', ExtraTreesClassifier(random_state=42)),\n",
        "    ('randomforest', RandomForestClassifier(random_state=42))\n",
        "], cv=3, passthrough=True)"
      ],
      "metadata": {
        "id": "93YgKJe1knZD"
      },
      "execution_count": 172,
      "outputs": []
    },
    {
      "cell_type": "code",
      "source": [
        "stacking.fit(Xtr, ytr) \n",
        "sc_pr = stacking.predict(Xte)\n",
        "schits = sc_pr == yte\n",
        "schits, sum(schits)/len(schits)"
      ],
      "metadata": {
        "colab": {
          "base_uri": "https://localhost:8080/"
        },
        "id": "Zk7Fh5IelD_6",
        "outputId": "9885e8fb-a616-4ea0-b617-5bb4951455fd"
      },
      "execution_count": 173,
      "outputs": [
        {
          "output_type": "execute_result",
          "data": {
            "text/plain": [
              "(3532     True\n",
              " 593      True\n",
              " 4919     True\n",
              " 1712     True\n",
              " 4920    False\n",
              "         ...  \n",
              " 414      True\n",
              " 2445     True\n",
              " 1175     True\n",
              " 170     False\n",
              " 4301     True\n",
              " Name: Class, Length: 1351, dtype: bool, 0.9104367135455218)"
            ]
          },
          "metadata": {},
          "execution_count": 173
        }
      ]
    },
    {
      "cell_type": "code",
      "source": [
        "parametros = {\n",
        "    'voting__tree__max_depth': list(range(1,10,2)),\n",
        "    'voting__knn__n_neighbors': list(range(1,10,2)),\n",
        "    'voting__per__solver':[ 'lbfgs', 'liblinear']\n",
        "}\n",
        "\n",
        "modelo_sg = GridSearchCV(stacking, param_grid=parametros)\n",
        "\n",
        "scores = cross_validate(modelo_sg, X, y)\n",
        "scores, np.mean(scores['test_score'])"
      ],
      "metadata": {
        "colab": {
          "base_uri": "https://localhost:8080/"
        },
        "id": "Ov83T0rs5pnI",
        "outputId": "5b3d0540-9b55-498f-996a-c8c9c88daa17"
      },
      "execution_count": 174,
      "outputs": [
        {
          "output_type": "execute_result",
          "data": {
            "text/plain": [
              "({'fit_time': array([4.23308969, 4.17568612, 4.19631076, 4.16768694, 4.16813588]),\n",
              "  'score_time': array([0.14453268, 0.1513555 , 0.14486885, 0.14264035, 0.14429903]),\n",
              "  'test_score': array([0.91396855, 0.91859389, 0.90841813, 0.91489362, 0.91203704])},\n",
              " 0.9135822455202659)"
            ]
          },
          "metadata": {},
          "execution_count": 174
        }
      ]
    }
  ]
}