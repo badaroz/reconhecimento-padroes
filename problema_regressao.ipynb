{
  "nbformat": 4,
  "nbformat_minor": 0,
  "metadata": {
    "colab": {
      "provenance": [],
      "authorship_tag": "ABX9TyOXdpnUyE2SLteZYsjmiCv8",
      "include_colab_link": true
    },
    "kernelspec": {
      "name": "python3",
      "display_name": "Python 3"
    },
    "language_info": {
      "name": "python"
    }
  },
  "cells": [
    {
      "cell_type": "markdown",
      "metadata": {
        "id": "view-in-github",
        "colab_type": "text"
      },
      "source": [
        "<a href=\"https://colab.research.google.com/github/badaroz/reconhecimento-padroes/blob/main/problema_regressao.ipynb\" target=\"_parent\"><img src=\"https://colab.research.google.com/assets/colab-badge.svg\" alt=\"Open In Colab\"/></a>"
      ]
    },
    {
      "cell_type": "code",
      "execution_count": 1,
      "metadata": {
        "id": "IbekclqkFBmC"
      },
      "outputs": [],
      "source": [
        "from sklearn.linear_model import LinearRegression \n",
        "from sklearn.datasets import fetch_openml\n",
        "from sklearn.metrics import mean_squared_error\n",
        "\n",
        "import pandas as pd\n",
        "import matplotlib.pylab as plt"
      ]
    },
    {
      "cell_type": "code",
      "source": [
        "request = fetch_openml(data_id=560,as_frame=True)\n",
        "X = request.data\n",
        "y = request.target"
      ],
      "metadata": {
        "id": "UYl6zAF-rQOj"
      },
      "execution_count": 2,
      "outputs": []
    },
    {
      "cell_type": "code",
      "source": [
        "X.shape,y.shape"
      ],
      "metadata": {
        "colab": {
          "base_uri": "https://localhost:8080/"
        },
        "id": "wQs80FI01VfV",
        "outputId": "09405429-11a2-4837-ee59-87f997c60a9f"
      },
      "execution_count": 3,
      "outputs": [
        {
          "output_type": "execute_result",
          "data": {
            "text/plain": [
              "((252, 14), (252,))"
            ]
          },
          "metadata": {},
          "execution_count": 3
        }
      ]
    },
    {
      "cell_type": "code",
      "source": [
        "modelo = LinearRegression()\n",
        "modelo.fit(X, y)\n",
        "ypred = modelo.predict(X)\n",
        "print(\"MSE: \", mean_squared_error(y, ypred))"
      ],
      "metadata": {
        "colab": {
          "base_uri": "https://localhost:8080/"
        },
        "id": "-BC4p38LbOCi",
        "outputId": "bc2e8c4e-5c56-47cf-e691-303d2abae671"
      },
      "execution_count": 4,
      "outputs": [
        {
          "output_type": "stream",
          "name": "stdout",
          "text": [
            "MSE:  1.527203518390806\n"
          ]
        }
      ]
    },
    {
      "cell_type": "code",
      "source": [
        "modelo.intercept_"
      ],
      "metadata": {
        "id": "8VWsmfqg5LJt",
        "outputId": "427b4be7-59f9-4c2b-cbaa-eb994a637493",
        "colab": {
          "base_uri": "https://localhost:8080/"
        }
      },
      "execution_count": 5,
      "outputs": [
        {
          "output_type": "execute_result",
          "data": {
            "text/plain": [
              "450.01256934457547"
            ]
          },
          "metadata": {},
          "execution_count": 5
        }
      ]
    },
    {
      "cell_type": "code",
      "source": [
        "from sklearn.metrics import mean_squared_error\n",
        "import numpy as np\n",
        "import copy as cp\n",
        "\n",
        "def find_errors(original_model, delta):\n",
        "\n",
        "  intercept = original_model.intercept_\n",
        "  intercepts = np.linspace(intercept-delta, intercept+delta)\n",
        "\n",
        "  mdl = cp.deepcopy(original_model)\n",
        "  erros = np.empty(intercepts.shape)\n",
        "\n",
        "  for j in range(intercepts.shape[0]):\n",
        "    mdl.intercept_ = intercepts[j]    \n",
        "    y_pred = mdl.predict(X)\n",
        "    mse = mean_squared_error(y, y_pred)\n",
        "    erros[j]=mse\n",
        "\n",
        "  return intercepts, erros\n",
        "\n",
        "plt.ylabel(\"Erro(mse)\")\n",
        "plt.xlabel(\"intercept\")\n",
        "intercepts ,erros = find_errors(modelo,12)\n",
        "plt.plot(intercepts,erros)"
      ],
      "metadata": {
        "colab": {
          "base_uri": "https://localhost:8080/",
          "height": 297
        },
        "id": "kxr-3zJEozDg",
        "outputId": "b6233feb-7517-4ea8-a5b4-a37ca203784d"
      },
      "execution_count": 7,
      "outputs": [
        {
          "output_type": "execute_result",
          "data": {
            "text/plain": [
              "[<matplotlib.lines.Line2D at 0x7fb3df7f9f90>]"
            ]
          },
          "metadata": {},
          "execution_count": 7
        },
        {
          "output_type": "display_data",
          "data": {
            "text/plain": [
              "<Figure size 432x288 with 1 Axes>"
            ],
            "image/png": "[encoded data removed]"
          },
          "metadata": {
            "needs_background": "light"
          }
        }
      ]
    }
  ]
}