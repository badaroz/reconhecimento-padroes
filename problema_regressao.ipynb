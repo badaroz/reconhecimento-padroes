{
  "nbformat": 4,
  "nbformat_minor": 0,
  "metadata": {
    "colab": {
      "provenance": [],
      "authorship_tag": "ABX9TyNwD9j82y95XjhDjssQzIPw",
      "include_colab_link": true
    },
    "kernelspec": {
      "name": "python3",
      "display_name": "Python 3"
    },
    "language_info": {
      "name": "python"
    }
  },
  "cells": [
    {
      "cell_type": "markdown",
      "metadata": {
        "id": "view-in-github",
        "colab_type": "text"
      },
      "source": [
        "<a href=\"https://colab.research.google.com/github/badaroz/reconhecimento-padroes/blob/main/problema_regressao.ipynb\" target=\"_parent\"><img src=\"https://colab.research.google.com/assets/colab-badge.svg\" alt=\"Open In Colab\"/></a>"
      ]
    },
    {
      "cell_type": "code",
      "execution_count": 1,
      "metadata": {
        "id": "IbekclqkFBmC"
      },
      "outputs": [],
      "source": [
        "from sklearn.linear_model import LinearRegression \n",
        "from sklearn.datasets import fetch_openml\n",
        "from sklearn.metrics import mean_squared_error\n",
        "\n",
        "import pandas as pd\n",
        "import matplotlib.pylab as plt"
      ]
    },
    {
      "cell_type": "code",
      "source": [
        "request = fetch_openml(data_id=560,as_frame=True)\n",
        "X = request.data\n",
        "y = request.target"
      ],
      "metadata": {
        "id": "UYl6zAF-rQOj"
      },
      "execution_count": 2,
      "outputs": []
    },
    {
      "cell_type": "code",
      "source": [
        "X.shape,y.shape"
      ],
      "metadata": {
        "colab": {
          "base_uri": "https://localhost:8080/"
        },
        "id": "wQs80FI01VfV",
        "outputId": "b3e86818-2c07-48eb-9e66-a4369ad2b47a"
      },
      "execution_count": 3,
      "outputs": [
        {
          "output_type": "execute_result",
          "data": {
            "text/plain": [
              "((252, 14), (252,))"
            ]
          },
          "metadata": {},
          "execution_count": 3
        }
      ]
    },
    {
      "cell_type": "code",
      "source": [
        "modelo = LinearRegression()\n",
        "modelo.fit(X, y)\n",
        "ypred = modelo.predict(X)\n",
        "mean_squared_error(y, ypred)"
      ],
      "metadata": {
        "colab": {
          "base_uri": "https://localhost:8080/"
        },
        "id": "-BC4p38LbOCi",
        "outputId": "e7d20192-8cf0-40f8-88f3-1844a05d85a8"
      },
      "execution_count": 4,
      "outputs": [
        {
          "output_type": "execute_result",
          "data": {
            "text/plain": [
              "1.527203518390806"
            ]
          },
          "metadata": {},
          "execution_count": 4
        }
      ]
    },
    {
      "cell_type": "code",
      "source": [
        "modelo.intercept_"
      ],
      "metadata": {
        "id": "8VWsmfqg5LJt",
        "outputId": "adf9f8b0-2dee-4e2e-e947-a552d3f575d3",
        "colab": {
          "base_uri": "https://localhost:8080/"
        }
      },
      "execution_count": 5,
      "outputs": [
        {
          "output_type": "execute_result",
          "data": {
            "text/plain": [
              "450.01256934457547"
            ]
          },
          "metadata": {},
          "execution_count": 5
        }
      ]
    },
    {
      "cell_type": "code",
      "source": [
        "from sklearn.metrics import mean_squared_error\n",
        "import numpy as np\n",
        "import copy as cp\n",
        "\n",
        "def find_errors(original_model, delta):\n",
        "\n",
        "  intercept = original_model.intercept_\n",
        "  intercepts = np.linspace(intercept-delta, intercept+delta)\n",
        "\n",
        "  mdl = cp.deepcopy(original_model)\n",
        "  erros = np.empty(intercepts.shape)\n",
        "\n",
        "  for j in range(intercepts.shape[0]):\n",
        "    mdl.intercept_ = intercepts[j]    \n",
        "    y_pred = mdl.predict(X)\n",
        "    mse = mean_squared_error(y, y_pred)\n",
        "    erros[j]=mse\n",
        "\n",
        "  return intercepts, erros\n",
        "\n",
        "plt.ylabel(\"Erro(mse)\")\n",
        "plt.xlabel(\"intercept\")\n",
        "intercepts ,erros = find_errors(modelo,10)\n",
        "plt.plot(intercepts,erros)"
      ],
      "metadata": {
        "colab": {
          "base_uri": "https://localhost:8080/",
          "height": 297
        },
        "id": "kxr-3zJEozDg",
        "outputId": "2803591d-7c95-431f-cdc7-094d80eeade5"
      },
      "execution_count": 6,
      "outputs": [
        {
          "output_type": "execute_result",
          "data": {
            "text/plain": [
              "[<matplotlib.lines.Line2D at 0x7f743ef02d10>]"
            ]
          },
          "metadata": {},
          "execution_count": 6
        },
        {
          "output_type": "display_data",
          "data": {
            "text/plain": [
              "<Figure size 432x288 with 1 Axes>"
            ],
            "image/png": "[encoded data removed]"
          },
          "metadata": {
            "needs_background": "light"
          }
        }
      ]
    }
  ]
}